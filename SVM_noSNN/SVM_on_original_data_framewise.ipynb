{
 "cells": [
  {
   "cell_type": "code",
   "execution_count": 1,
   "id": "055eb4a0",
   "metadata": {},
   "outputs": [
    {
     "name": "stderr",
     "output_type": "stream",
     "text": [
      "C:\\Users\\BCI-AD~1\\AppData\\Local\\Temp/ipykernel_22020/3725482898.py:28: DeprecationWarning: `np.bool` is a deprecated alias for the builtin `bool`. To silence this warning, use `bool` by itself. Doing this will not modify any behavior and is safe. If you specifically wanted the numpy scalar type, use `np.bool_` here.\n",
      "Deprecated in NumPy 1.20; for more details and guidance: https://numpy.org/devdocs/release/1.20.0-notes.html#deprecations\n",
      "  np.concatenate((np.zeros(25), np.ones(4), np.zeros(3)))]).astype(np.bool)\n"
     ]
    }
   ],
   "source": [
    "import scipy.io as sio\n",
    "from pathlib import Path\n",
    "import numpy as np\n",
    "\n",
    "\n",
    "mask = np.array([np.ones(32), np.ones(32), np.ones(32),np.concatenate((np.zeros(14), np.ones(18))),\n",
    "                 np.concatenate((np.zeros(14), np.ones(18))),\n",
    "                 np.concatenate((np.zeros(14), np.ones(18))),\n",
    "                 np.ones(32), np.ones(32), np.ones(32),\n",
    "                 np.concatenate((np.zeros(14), np.ones(18))),\n",
    "                 np.ones(32), np.ones(32), np.ones(32),\n",
    "                 np.concatenate((np.zeros(14), np.ones(18))),\n",
    "                 np.concatenate((np.zeros(14), np.ones(18))),\n",
    "                 np.ones(32), np.ones(32), np.ones(32),\n",
    "                 np.concatenate((np.zeros(25), np.ones(4), np.zeros(3))),\n",
    "                 np.concatenate((np.zeros(25), np.ones(4), np.zeros(3))),\n",
    "                 np.concatenate((np.zeros(25), np.ones(4), np.zeros(3))),\n",
    "                 np.concatenate((np.zeros(25), np.ones(4), np.zeros(3))),\n",
    "                 np.concatenate((np.zeros(25), np.ones(4), np.zeros(3))),\n",
    "                 np.concatenate((np.zeros(25), np.ones(4), np.zeros(3))),\n",
    "                 np.concatenate((np.zeros(25), np.ones(4), np.zeros(3))),\n",
    "                 np.concatenate((np.zeros(25), np.ones(4), np.zeros(3))),\n",
    "                 np.concatenate((np.zeros(25), np.ones(4), np.zeros(3))),\n",
    "                 np.concatenate((np.zeros(25), np.ones(4), np.zeros(3))),\n",
    "                 np.concatenate((np.zeros(25), np.ones(4), np.zeros(3))),\n",
    "                 np.concatenate((np.zeros(25), np.ones(4), np.zeros(3))),\n",
    "                 np.concatenate((np.zeros(25), np.ones(4), np.zeros(3))),\n",
    "                 np.concatenate((np.zeros(25), np.ones(4), np.zeros(3)))]).astype(np.bool)\n",
    "mask = mask.reshape((1024,))"
   ]
  },
  {
   "cell_type": "code",
   "execution_count": 2,
   "id": "5a44edc8",
   "metadata": {},
   "outputs": [],
   "source": [
    "def normalize(pressure):\n",
    "    \"\"\"\n",
    "    Scales each array of the given array of arrays to the range [0, 1]\n",
    "    Only considers values in the same tactile frame\n",
    "    \"\"\"\n",
    "    normalized_p = np.copy(pressure)\n",
    "    for i, press in enumerate(pressure):\n",
    "        min_p = np.min(press)\n",
    "        normalized_p[i] = (press - min_p) / np.max(press - min_p)\n",
    "    \n",
    "    return normalized_p\n",
    " \n",
    "\n",
    "def boost(pressure): \n",
    "    \"\"\"\n",
    "    The higher a value is from the mean of the frame, the more it gets boosted.\n",
    "    The idea is that tactile features are robuster\n",
    "    \"\"\"\n",
    "    for press in pressure:\n",
    "        mean_p = np.mean(press[mask])\n",
    "        boost_mask = press > mean_p\n",
    "        press[boost_mask] = list(map(lambda x: 4*(x-mean_p), press[boost_mask]))\n",
    "        \n",
    "    return pressure"
   ]
  },
  {
   "cell_type": "code",
   "execution_count": 4,
   "id": "e869d8b8",
   "metadata": {},
   "outputs": [],
   "source": [
    "filename = Path('C:/Users/bci-admin/Downloads/smarthand_dataset.mat')\n",
    "\n",
    "data = sio.loadmat(filename, squeeze_me=True)\n",
    "pressure = data['tactile_data']\n",
    "# Scale data to the range [0, 1]\n",
    "pressure = np.clip((pressure.astype(np.float32)-1500)/(2700-1500), 0.0, 1.0)\n",
    "#pressure = normalize(pressure.astype(np.float32))\n",
    "#pressure = np.exp2(pressure)\n",
    "#pressure = np.clip((pressure-1), 0.0, 1.0)\n",
    "pressure = boost(pressure)\n",
    "pressure = np.clip(pressure, 0.0, 1.0)\n",
    "object_id = data['object_id']\n",
    "\n",
    "pressure[:, ~mask] = 0.0"
   ]
  },
  {
   "cell_type": "code",
   "execution_count": null,
   "id": "783220d7",
   "metadata": {},
   "outputs": [],
   "source": [
    "print(pressure.shape)"
   ]
  },
  {
   "cell_type": "code",
   "execution_count": null,
   "id": "6035d3dc",
   "metadata": {},
   "outputs": [],
   "source": []
  },
  {
   "cell_type": "markdown",
   "id": "dd4acf40",
   "metadata": {},
   "source": [
    "### 5 Frames as a group, N_frames = 5"
   ]
  },
  {
   "cell_type": "code",
   "execution_count": 150,
   "id": "1938f5f4",
   "metadata": {},
   "outputs": [
    {
     "name": "stdout",
     "output_type": "stream",
     "text": [
      "(67997, 5, 1024)\n"
     ]
    }
   ],
   "source": [
    "N=5\n",
    "sample = []\n",
    "for i in range(int(pressure.shape[0]/N)):\n",
    "    sample.append(pressure[N*i:N*i+N,:])\n",
    "    \n",
    "sample = np.array(sample)\n",
    "print(sample.shape)"
   ]
  },
  {
   "cell_type": "code",
   "execution_count": 151,
   "id": "89460fe5",
   "metadata": {},
   "outputs": [
    {
     "name": "stdout",
     "output_type": "stream",
     "text": [
      "(67997, 5120)\n"
     ]
    }
   ],
   "source": [
    "sample = sample.reshape((-1, 32*32*N))\n",
    "print(sample.shape)"
   ]
  },
  {
   "cell_type": "code",
   "execution_count": 157,
   "id": "aa16ed77",
   "metadata": {},
   "outputs": [
    {
     "name": "stdout",
     "output_type": "stream",
     "text": [
      "(67997,)\n"
     ]
    }
   ],
   "source": [
    "object_sample = object_id[0:-5:5]\n",
    "print(object_sample.shape)"
   ]
  },
  {
   "cell_type": "code",
   "execution_count": 158,
   "id": "2dac0082",
   "metadata": {},
   "outputs": [],
   "source": [
    "X_train, X_test, y_train, y_test = train_test_split(np.array(sample), np.array(object_sample), test_size=0.2, random_state=42)"
   ]
  },
  {
   "cell_type": "code",
   "execution_count": 160,
   "id": "f8608fe8",
   "metadata": {},
   "outputs": [
    {
     "data": {
      "text/plain": [
       "(54397, 5120)"
      ]
     },
     "execution_count": 160,
     "metadata": {},
     "output_type": "execute_result"
    }
   ],
   "source": [
    "X_train.shape"
   ]
  },
  {
   "cell_type": "code",
   "execution_count": 161,
   "id": "3d6a53b1",
   "metadata": {},
   "outputs": [
    {
     "data": {
      "text/plain": [
       "(54397,)"
      ]
     },
     "execution_count": 161,
     "metadata": {},
     "output_type": "execute_result"
    }
   ],
   "source": [
    "y_train.shape"
   ]
  },
  {
   "cell_type": "code",
   "execution_count": 162,
   "id": "7f4426e6",
   "metadata": {},
   "outputs": [
    {
     "data": {
      "text/plain": [
       "(13600, 5120)"
      ]
     },
     "execution_count": 162,
     "metadata": {},
     "output_type": "execute_result"
    }
   ],
   "source": [
    "X_test.shape"
   ]
  },
  {
   "cell_type": "code",
   "execution_count": 163,
   "id": "0b48b3ff",
   "metadata": {},
   "outputs": [
    {
     "data": {
      "text/plain": [
       "(13600,)"
      ]
     },
     "execution_count": 163,
     "metadata": {},
     "output_type": "execute_result"
    }
   ],
   "source": [
    "y_test.shape"
   ]
  },
  {
   "cell_type": "code",
   "execution_count": 164,
   "id": "2472bf18",
   "metadata": {},
   "outputs": [
    {
     "name": "stdout",
     "output_type": "stream",
     "text": [
      "Accuracy: 0.8755147058823529\n"
     ]
    }
   ],
   "source": [
    "# N=5\n",
    "from sklearn import svm\n",
    "from sklearn import metrics\n",
    "\n",
    "clf = svm.SVC(kernel='linear') \n",
    "\n",
    "clf.fit(X_train, y_train)\n",
    "\n",
    "y_pred = clf.predict(X_test)\n",
    "\n",
    "print(\"Accuracy:\",metrics.accuracy_score(y_test, y_pred))"
   ]
  },
  {
   "cell_type": "code",
   "execution_count": null,
   "id": "dbd080c4",
   "metadata": {},
   "outputs": [],
   "source": []
  },
  {
   "cell_type": "code",
   "execution_count": null,
   "id": "cacd04ea",
   "metadata": {},
   "outputs": [],
   "source": []
  },
  {
   "cell_type": "markdown",
   "id": "d3584761",
   "metadata": {},
   "source": [
    "### 2 Frames as a group, N_frames = 2"
   ]
  },
  {
   "cell_type": "code",
   "execution_count": 165,
   "id": "a70309d3",
   "metadata": {},
   "outputs": [
    {
     "name": "stdout",
     "output_type": "stream",
     "text": [
      "(169994, 2, 1024)\n",
      "(169994, 2048)\n",
      "(169994,)\n"
     ]
    }
   ],
   "source": [
    "N=2\n",
    "sample = []\n",
    "for i in range(int(pressure.shape[0]/N)):\n",
    "    sample.append(pressure[N*i:N*i+N,:])\n",
    "    \n",
    "sample = np.array(sample)\n",
    "print(sample.shape)\n",
    "sample = sample.reshape((-1, 32*32*N))\n",
    "print(sample.shape)\n",
    "object_sample = object_id[0:-N:N]\n",
    "print(object_sample.shape)"
   ]
  },
  {
   "cell_type": "code",
   "execution_count": 166,
   "id": "24d9f370",
   "metadata": {},
   "outputs": [
    {
     "name": "stdout",
     "output_type": "stream",
     "text": [
      "(135995, 2048)\n",
      "(135995,)\n"
     ]
    }
   ],
   "source": [
    "X_train, X_test, y_train, y_test = train_test_split(np.array(sample), np.array(object_sample), test_size=0.2, random_state=42)\n",
    "print(X_train.shape)\n",
    "print(y_train.shape)"
   ]
  },
  {
   "cell_type": "code",
   "execution_count": 167,
   "id": "b407b230",
   "metadata": {},
   "outputs": [
    {
     "name": "stdout",
     "output_type": "stream",
     "text": [
      "Accuracy: 0.8794964557781111\n"
     ]
    }
   ],
   "source": [
    "from sklearn import svm\n",
    "from sklearn import metrics\n",
    "\n",
    "clf = svm.SVC(kernel='linear') \n",
    "\n",
    "clf.fit(X_train, y_train)\n",
    "\n",
    "y_pred = clf.predict(X_test)\n",
    "\n",
    "print(\"Accuracy:\",metrics.accuracy_score(y_test, y_pred))"
   ]
  },
  {
   "cell_type": "code",
   "execution_count": null,
   "id": "d7fb53c0",
   "metadata": {},
   "outputs": [],
   "source": []
  },
  {
   "cell_type": "markdown",
   "id": "b7be7a09",
   "metadata": {},
   "source": [
    "### 3 Frames as a group, N_frames = 3"
   ]
  },
  {
   "cell_type": "code",
   "execution_count": 168,
   "id": "2cba9b4f",
   "metadata": {},
   "outputs": [
    {
     "name": "stdout",
     "output_type": "stream",
     "text": [
      "(113329, 3, 1024)\n",
      "(113329, 3072)\n",
      "(113329,)\n"
     ]
    }
   ],
   "source": [
    "N=3\n",
    "sample = []\n",
    "for i in range(int(pressure.shape[0]/N)):\n",
    "    sample.append(pressure[N*i:N*i+N,:])\n",
    "    \n",
    "sample = np.array(sample)\n",
    "print(sample.shape)\n",
    "sample = sample.reshape((-1, 32*32*N))\n",
    "print(sample.shape)\n",
    "object_sample = object_id[0:-N:N]\n",
    "print(object_sample.shape)"
   ]
  },
  {
   "cell_type": "code",
   "execution_count": 169,
   "id": "2440c969",
   "metadata": {},
   "outputs": [
    {
     "name": "stdout",
     "output_type": "stream",
     "text": [
      "(90663, 3072)\n",
      "(90663,)\n"
     ]
    }
   ],
   "source": [
    "X_train, X_test, y_train, y_test = train_test_split(np.array(sample), np.array(object_sample), test_size=0.2, random_state=42)\n",
    "print(X_train.shape)\n",
    "print(y_train.shape)"
   ]
  },
  {
   "cell_type": "code",
   "execution_count": 170,
   "id": "13af63f4",
   "metadata": {},
   "outputs": [
    {
     "name": "stdout",
     "output_type": "stream",
     "text": [
      "Accuracy: 0.8814523956586958\n"
     ]
    }
   ],
   "source": [
    "from sklearn import svm\n",
    "from sklearn import metrics\n",
    "\n",
    "clf = svm.SVC(kernel='linear') \n",
    "\n",
    "clf.fit(X_train, y_train)\n",
    "\n",
    "y_pred = clf.predict(X_test)\n",
    "\n",
    "print(\"Accuracy:\",metrics.accuracy_score(y_test, y_pred))"
   ]
  },
  {
   "cell_type": "code",
   "execution_count": null,
   "id": "ff0c3e59",
   "metadata": {},
   "outputs": [],
   "source": []
  },
  {
   "cell_type": "markdown",
   "id": "e88b2e76",
   "metadata": {},
   "source": [
    "### 4 Frames as a group, N_frames = 4"
   ]
  },
  {
   "cell_type": "code",
   "execution_count": 14,
   "id": "c8dac505",
   "metadata": {},
   "outputs": [
    {
     "name": "stdout",
     "output_type": "stream",
     "text": [
      "(84997, 4, 1024)\n",
      "(84997, 4096)\n",
      "(84997,)\n"
     ]
    }
   ],
   "source": [
    "N=4\n",
    "sample = []\n",
    "for i in range(int(pressure.shape[0]/N)):\n",
    "    sample.append(pressure[N*i:N*i+N,:])\n",
    "    \n",
    "sample = np.array(sample)\n",
    "print(sample.shape)\n",
    "sample = sample.reshape((-1, 32*32*N))\n",
    "print(sample.shape)\n",
    "object_sample = object_id[0:-N:N]\n",
    "print(object_sample.shape)"
   ]
  },
  {
   "cell_type": "code",
   "execution_count": 15,
   "id": "db1cc054",
   "metadata": {},
   "outputs": [
    {
     "name": "stdout",
     "output_type": "stream",
     "text": [
      "(67997, 4096)\n",
      "(67997,)\n"
     ]
    }
   ],
   "source": [
    "X_train, X_test, y_train, y_test = train_test_split(np.array(sample), np.array(object_sample), test_size=0.2, random_state=42)\n",
    "print(X_train.shape)\n",
    "print(y_train.shape)"
   ]
  },
  {
   "cell_type": "code",
   "execution_count": 173,
   "id": "e1ae4984",
   "metadata": {},
   "outputs": [
    {
     "name": "stdout",
     "output_type": "stream",
     "text": [
      "Accuracy: 0.8831764705882353\n"
     ]
    }
   ],
   "source": [
    "from sklearn import svm\n",
    "from sklearn import metrics\n",
    "\n",
    "clf = svm.SVC(kernel='linear') \n",
    "\n",
    "clf.fit(X_train, y_train)\n",
    "\n",
    "y_pred = clf.predict(X_test)\n",
    "\n",
    "print(\"Accuracy:\",metrics.accuracy_score(y_test, y_pred))"
   ]
  },
  {
   "cell_type": "code",
   "execution_count": 16,
   "id": "fc61d21d",
   "metadata": {},
   "outputs": [
    {
     "name": "stdout",
     "output_type": "stream",
     "text": [
      "Accuracy: 0.9334705882352942\n"
     ]
    }
   ],
   "source": [
    "from sklearn import svm\n",
    "from sklearn import metrics\n",
    "\n",
    "clf = svm.SVC(kernel='rbf') \n",
    "\n",
    "clf.fit(X_train, y_train)\n",
    "\n",
    "y_pred = clf.predict(X_test)\n",
    "\n",
    "print(\"Accuracy:\",metrics.accuracy_score(y_test, y_pred))"
   ]
  },
  {
   "cell_type": "code",
   "execution_count": null,
   "id": "a57b4379",
   "metadata": {},
   "outputs": [],
   "source": []
  },
  {
   "cell_type": "code",
   "execution_count": null,
   "id": "c8e07b9f",
   "metadata": {},
   "outputs": [],
   "source": []
  },
  {
   "cell_type": "code",
   "execution_count": null,
   "id": "f1085315",
   "metadata": {},
   "outputs": [],
   "source": []
  },
  {
   "cell_type": "code",
   "execution_count": 174,
   "id": "618118b2",
   "metadata": {},
   "outputs": [
    {
     "name": "stdout",
     "output_type": "stream",
     "text": [
      "(67997, 5, 1024)\n",
      "(67997, 5120)\n",
      "(67997,)\n"
     ]
    }
   ],
   "source": [
    "N=5\n",
    "sample = []\n",
    "for i in range(int(pressure.shape[0]/N)):\n",
    "    sample.append(pressure[N*i:N*i+N,:])\n",
    "    \n",
    "sample = np.array(sample)\n",
    "print(sample.shape)\n",
    "sample = sample.reshape((-1, 32*32*N))\n",
    "print(sample.shape)\n",
    "object_sample = object_id[0:-N:N]\n",
    "print(object_sample.shape)"
   ]
  },
  {
   "cell_type": "code",
   "execution_count": 175,
   "id": "76d4bd9b",
   "metadata": {},
   "outputs": [
    {
     "name": "stdout",
     "output_type": "stream",
     "text": [
      "(54397, 5120)\n",
      "(54397,)\n"
     ]
    }
   ],
   "source": [
    "X_train, X_test, y_train, y_test = train_test_split(np.array(sample), np.array(object_sample), test_size=0.2, random_state=42)\n",
    "print(X_train.shape)\n",
    "print(y_train.shape)"
   ]
  },
  {
   "cell_type": "code",
   "execution_count": 176,
   "id": "2090ee92",
   "metadata": {},
   "outputs": [
    {
     "name": "stdout",
     "output_type": "stream",
     "text": [
      "Accuracy: 0.8755147058823529\n"
     ]
    }
   ],
   "source": [
    "from sklearn import svm\n",
    "from sklearn import metrics\n",
    "\n",
    "clf = svm.SVC(kernel='linear') \n",
    "\n",
    "clf.fit(X_train, y_train)\n",
    "\n",
    "y_pred = clf.predict(X_test)\n",
    "\n",
    "print(\"Accuracy:\",metrics.accuracy_score(y_test, y_pred))"
   ]
  },
  {
   "cell_type": "code",
   "execution_count": null,
   "id": "2f9ed96e",
   "metadata": {},
   "outputs": [],
   "source": []
  },
  {
   "cell_type": "code",
   "execution_count": 5,
   "id": "d33de88e",
   "metadata": {},
   "outputs": [
    {
     "name": "stdout",
     "output_type": "stream",
     "text": [
      "(56664, 6, 1024)\n",
      "(56664, 6144)\n",
      "(56664,)\n"
     ]
    }
   ],
   "source": [
    "N=6\n",
    "sample = []\n",
    "for i in range(int(pressure.shape[0]/N)):\n",
    "    sample.append(pressure[N*i:N*i+N,:])\n",
    "    \n",
    "sample = np.array(sample)\n",
    "print(sample.shape)\n",
    "sample = sample.reshape((-1, 32*32*N))\n",
    "print(sample.shape)\n",
    "object_sample = object_id[0:-N:N]\n",
    "print(object_sample.shape)"
   ]
  },
  {
   "cell_type": "code",
   "execution_count": 7,
   "id": "89fdd5be",
   "metadata": {},
   "outputs": [
    {
     "name": "stdout",
     "output_type": "stream",
     "text": [
      "(45331, 6144)\n",
      "(45331,)\n"
     ]
    }
   ],
   "source": [
    "from sklearn.model_selection import train_test_split\n",
    "\n",
    "X_train, X_test, y_train, y_test = train_test_split(np.array(sample), np.array(object_sample), test_size=0.2, random_state=42)\n",
    "print(X_train.shape)\n",
    "print(y_train.shape)"
   ]
  },
  {
   "cell_type": "code",
   "execution_count": 8,
   "id": "cceccbb2",
   "metadata": {},
   "outputs": [
    {
     "name": "stdout",
     "output_type": "stream",
     "text": [
      "Accuracy: 0.8807906114885732\n"
     ]
    }
   ],
   "source": [
    "from sklearn import svm\n",
    "from sklearn import metrics\n",
    "\n",
    "clf = svm.SVC(kernel='linear') \n",
    "\n",
    "clf.fit(X_train, y_train)\n",
    "\n",
    "y_pred = clf.predict(X_test)\n",
    "\n",
    "print(\"Accuracy:\",metrics.accuracy_score(y_test, y_pred))"
   ]
  },
  {
   "cell_type": "code",
   "execution_count": null,
   "id": "d295e905",
   "metadata": {},
   "outputs": [],
   "source": []
  },
  {
   "cell_type": "code",
   "execution_count": null,
   "id": "b9cc60cf",
   "metadata": {},
   "outputs": [],
   "source": []
  },
  {
   "cell_type": "code",
   "execution_count": 6,
   "id": "bacbc65c",
   "metadata": {},
   "outputs": [
    {
     "name": "stdout",
     "output_type": "stream",
     "text": [
      "(6799, 50, 1024)\n",
      "(6799, 51200)\n",
      "(6799,)\n"
     ]
    }
   ],
   "source": [
    "N=50\n",
    "sample = []\n",
    "for i in range(int(pressure.shape[0]/N)):\n",
    "    sample.append(pressure[N*i:N*i+N,:])\n",
    "    \n",
    "sample = np.array(sample)\n",
    "print(sample.shape)\n",
    "sample = sample.reshape((-1, 32*32*N))\n",
    "print(sample.shape)\n",
    "object_sample = object_id[0:-N:N]\n",
    "print(object_sample.shape)"
   ]
  },
  {
   "cell_type": "code",
   "execution_count": 7,
   "id": "753f6ae5",
   "metadata": {},
   "outputs": [
    {
     "name": "stdout",
     "output_type": "stream",
     "text": [
      "(5439, 51200)\n",
      "(5439,)\n"
     ]
    }
   ],
   "source": [
    "from sklearn.model_selection import train_test_split\n",
    "\n",
    "X_train, X_test, y_train, y_test = train_test_split(np.array(sample), np.array(object_sample), test_size=0.2, random_state=42)\n",
    "print(X_train.shape)\n",
    "print(y_train.shape)"
   ]
  },
  {
   "cell_type": "code",
   "execution_count": 8,
   "id": "3d21d703",
   "metadata": {},
   "outputs": [
    {
     "name": "stdout",
     "output_type": "stream",
     "text": [
      "Accuracy: 0.7154411764705882\n"
     ]
    }
   ],
   "source": [
    "from sklearn import svm\n",
    "from sklearn import metrics\n",
    "\n",
    "clf = svm.SVC(kernel='linear') \n",
    "\n",
    "clf.fit(X_train, y_train)\n",
    "\n",
    "y_pred = clf.predict(X_test)\n",
    "\n",
    "print(\"Accuracy:\",metrics.accuracy_score(y_test, y_pred))"
   ]
  },
  {
   "cell_type": "code",
   "execution_count": null,
   "id": "4d6ee697",
   "metadata": {},
   "outputs": [],
   "source": []
  },
  {
   "cell_type": "code",
   "execution_count": 9,
   "id": "27b8ccb3",
   "metadata": {},
   "outputs": [
    {
     "name": "stdout",
     "output_type": "stream",
     "text": [
      "(3399, 100, 1024)\n",
      "(3399, 102400)\n",
      "(3399,)\n"
     ]
    }
   ],
   "source": [
    "N=100\n",
    "sample = []\n",
    "for i in range(int(pressure.shape[0]/N)):\n",
    "    sample.append(pressure[N*i:N*i+N,:])\n",
    "    \n",
    "sample = np.array(sample)\n",
    "print(sample.shape)\n",
    "sample = sample.reshape((-1, 32*32*N))\n",
    "print(sample.shape)\n",
    "object_sample = object_id[0:-N:N]\n",
    "print(object_sample.shape)"
   ]
  },
  {
   "cell_type": "code",
   "execution_count": 10,
   "id": "d334ecf9",
   "metadata": {},
   "outputs": [
    {
     "name": "stdout",
     "output_type": "stream",
     "text": [
      "(2719, 102400)\n",
      "(2719,)\n"
     ]
    }
   ],
   "source": [
    "from sklearn.model_selection import train_test_split\n",
    "\n",
    "X_train, X_test, y_train, y_test = train_test_split(np.array(sample), np.array(object_sample), test_size=0.2, random_state=42)\n",
    "print(X_train.shape)\n",
    "print(y_train.shape)"
   ]
  },
  {
   "cell_type": "code",
   "execution_count": 11,
   "id": "24938f9a",
   "metadata": {},
   "outputs": [
    {
     "name": "stdout",
     "output_type": "stream",
     "text": [
      "Accuracy: 0.7029411764705882\n"
     ]
    }
   ],
   "source": [
    "from sklearn import svm\n",
    "from sklearn import metrics\n",
    "\n",
    "clf = svm.SVC(kernel='linear') \n",
    "\n",
    "clf.fit(X_train, y_train)\n",
    "\n",
    "y_pred = clf.predict(X_test)\n",
    "\n",
    "print(\"Accuracy:\",metrics.accuracy_score(y_test, y_pred))"
   ]
  },
  {
   "cell_type": "code",
   "execution_count": null,
   "id": "ecaa533b",
   "metadata": {},
   "outputs": [],
   "source": []
  },
  {
   "cell_type": "code",
   "execution_count": null,
   "id": "385af9bd",
   "metadata": {},
   "outputs": [],
   "source": []
  },
  {
   "cell_type": "code",
   "execution_count": 12,
   "id": "213e5599",
   "metadata": {},
   "outputs": [
    {
     "name": "stdout",
     "output_type": "stream",
     "text": [
      "(33998, 10, 1024)\n",
      "(33998, 10240)\n",
      "(33998,)\n"
     ]
    }
   ],
   "source": [
    "N=10\n",
    "sample = []\n",
    "for i in range(int(pressure.shape[0]/N)):\n",
    "    sample.append(pressure[N*i:N*i+N,:])\n",
    "    \n",
    "sample = np.array(sample)\n",
    "print(sample.shape)\n",
    "sample = sample.reshape((-1, 32*32*N))\n",
    "print(sample.shape)\n",
    "object_sample = object_id[0:-N:N]\n",
    "print(object_sample.shape)"
   ]
  },
  {
   "cell_type": "code",
   "execution_count": 13,
   "id": "2098dcb3",
   "metadata": {},
   "outputs": [
    {
     "name": "stdout",
     "output_type": "stream",
     "text": [
      "(27198, 10240)\n",
      "(27198,)\n"
     ]
    }
   ],
   "source": [
    "from sklearn.model_selection import train_test_split\n",
    "\n",
    "X_train, X_test, y_train, y_test = train_test_split(np.array(sample), np.array(object_sample), test_size=0.2, random_state=42)\n",
    "print(X_train.shape)\n",
    "print(y_train.shape)"
   ]
  },
  {
   "cell_type": "code",
   "execution_count": 14,
   "id": "e51216d4",
   "metadata": {},
   "outputs": [
    {
     "name": "stdout",
     "output_type": "stream",
     "text": [
      "Accuracy: 0.856764705882353\n"
     ]
    }
   ],
   "source": [
    "from sklearn import svm\n",
    "from sklearn import metrics\n",
    "\n",
    "clf = svm.SVC(kernel='linear') \n",
    "\n",
    "clf.fit(X_train, y_train)\n",
    "\n",
    "y_pred = clf.predict(X_test)\n",
    "\n",
    "print(\"Accuracy:\",metrics.accuracy_score(y_test, y_pred))"
   ]
  },
  {
   "cell_type": "code",
   "execution_count": null,
   "id": "f6adb1b2",
   "metadata": {},
   "outputs": [],
   "source": []
  },
  {
   "cell_type": "code",
   "execution_count": null,
   "id": "caa29065",
   "metadata": {},
   "outputs": [],
   "source": []
  }
 ],
 "metadata": {
  "kernelspec": {
   "display_name": "Python 3 (ipykernel)",
   "language": "python",
   "name": "python3"
  },
  "language_info": {
   "codemirror_mode": {
    "name": "ipython",
    "version": 3
   },
   "file_extension": ".py",
   "mimetype": "text/x-python",
   "name": "python",
   "nbconvert_exporter": "python",
   "pygments_lexer": "ipython3",
   "version": "3.9.18"
  }
 },
 "nbformat": 4,
 "nbformat_minor": 5
}
